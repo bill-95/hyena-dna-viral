{
 "cells": [
  {
   "cell_type": "code",
   "execution_count": 1,
   "id": "0da7ac51-fbe8-4ef7-a097-44cb7b013ee9",
   "metadata": {},
   "outputs": [],
   "source": [
    "import gzip\n",
    "import os\n",
    "import pickle\n",
    "import requests\n",
    "import random\n",
    "import shutil\n",
    "import pandas as pd\n",
    "import tqdm\n",
    "\n",
    "from pathlib import Path\n",
    "from pyfaidx import Fasta\n",
    "\n",
    "from sklearn.model_selection import train_test_split"
   ]
  },
  {
   "cell_type": "code",
   "execution_count": 8,
   "id": "f997896e-10c1-4bd1-957c-fc851fbfa1ac",
   "metadata": {},
   "outputs": [],
   "source": [
    "# class FastaInterval():\n",
    "#     def __init__(\n",
    "#         self,\n",
    "#         fasta_file\n",
    "#     ):\n",
    "#         fasta_file = Path(fasta_file)\n",
    "#         assert fasta_file.exists(), 'path to fasta file must exist'\n",
    "\n",
    "#         self.seqs = Fasta(str(fasta_file))\n",
    "#         # calc len of each chromosome in fasta file, store in dict\n",
    "#         self.chr_lens = {}\n",
    "\n",
    "#         for chr_name in self.seqs.keys():\n",
    "#             # remove tail end, might be gibberish code\n",
    "#             # truncate_len = int(len(self.seqs[chr_name]) * 0.9)\n",
    "#             # self.chr_lens[chr_name] = truncate_len\n",
    "#             self.chr_lens[chr_name] = len(self.seqs[chr_name])\n",
    "\n",
    "\n",
    "#     def __call__(self, chr_name, start, end):\n",
    "#         chromosome = self.seqs[chr_name]\n",
    "#         seq = str(chromosome[start:end])\n",
    "\n",
    "#         return seq\n"
   ]
  },
  {
   "cell_type": "code",
   "execution_count": 9,
   "id": "e2a3fd6c-a967-4e5a-b5cc-5bedca22ebb3",
   "metadata": {},
   "outputs": [],
   "source": [
    "# fasta = FastaInterval('../data/genome/GRCh38.p13.fa')"
   ]
  },
  {
   "cell_type": "code",
   "execution_count": null,
   "id": "e599595a-a949-4871-9faf-35929fe440b2",
   "metadata": {},
   "outputs": [],
   "source": [
    "response = requests.get('https://ftp.ncbi.nlm.nih.gov/pub/clinvar/tab_delimited/variant_summary.txt.gz', stream=True)\n",
    "directory = \"../data/clinvar\"\n",
    "filename = \"variant_summary.txt\"\n",
    "file_path =  directory + \"/\" + filename\n",
    "\n",
    "if not os.path.exists(directory):\n",
    "    os.makedirs(directory)\n",
    "\n",
    "if response.status_code == 200:\n",
    "    with gzip.open(response.raw, 'rb') as f_in:\n",
    "        with open(file_path, 'wb') as f_out:\n",
    "            shutil.copyfileobj(f_in, f_out)\n",
    "\n",
    "print(\"Downloaded clinvar dataset!\")"
   ]
  },
  {
   "cell_type": "code",
   "execution_count": null,
   "id": "14fb3b21-1274-445d-b7dd-8b64935ead48",
   "metadata": {},
   "outputs": [],
   "source": [
    "def load_data():\n",
    "    df = pd.read_csv('../data/clinvar/variant_summary.txt', delimiter='\\t')\n",
    "    # use data from latest version of the human genome\n",
    "    df = df[df.Assembly == 'GRCh38']\n",
    "    # filter for relevant fields\n",
    "    df = df[['#AlleleID', 'Type', 'ClinicalSignificance', 'Assembly', 'Chromosome', 'PositionVCF', 'ReferenceAlleleVCF', 'AlternateAlleleVCF']]\n",
    "    # filter for only those that are \"Pathogenic\", or \"Benign\" to predict\n",
    "    df = df[df.ClinicalSignificance.isin((\n",
    "        \"Pathogenic\",\n",
    "        \"Benign\"\n",
    "    ))]\n",
    "    df = df[df.PositionVCF != -1] # missing values\n",
    "    df = df[df.ReferenceAlleleVCF != 'na'] # missing values\n",
    "    df = df[df.AlternateAlleleVCF != 'na'] # missing values\n",
    "    df = df[df.Type != 'Variation'] # unknown variant type\n",
    "    df = df[df.Chromosome != 'MT'] # filter out mitochondrial variants\n",
    "\n",
    "    return df"
   ]
  },
  {
   "cell_type": "code",
   "execution_count": null,
   "id": "726a4f3a-97bd-4525-83d8-f4b55f104b5b",
   "metadata": {},
   "outputs": [],
   "source": [
    "df = load_data()"
   ]
  },
  {
   "cell_type": "code",
   "execution_count": null,
   "id": "8691c60b-dfee-4b3f-b816-670c81201481",
   "metadata": {},
   "outputs": [],
   "source": [
    "# format samples here for training later\n",
    "samples = {}\n",
    "\n",
    "for i, row in tqdm.tqdm(df.iterrows()):\n",
    "    sample_id = row['#AlleleID']\n",
    "    chrom = row.Chromosome\n",
    "    pos = row.PositionVCF\n",
    "    ref = row.ReferenceAlleleVCF\n",
    "    alt = row.AlternateAlleleVCF\n",
    "    variant_type = row.Type\n",
    "    label = row.ClinicalSignificance\n",
    "\n",
    "    samples[sample_id] = (chrom, pos, ref, alt, variant_type, label)"
   ]
  },
  {
   "cell_type": "code",
   "execution_count": null,
   "id": "1fcdba5e-c4e1-4c17-b05e-1fe159d3bc49",
   "metadata": {},
   "outputs": [],
   "source": [
    "sample_ids = list(samples.keys())\n",
    "\n",
    "# create splits\n",
    "train_ids, test_val_ids = train_test_split(sample_ids, test_size=0.2, random_state=42)\n",
    "val_ids, test_ids = train_test_split(test_val_ids, test_size=0.5, random_state=42)"
   ]
  },
  {
   "cell_type": "code",
   "execution_count": null,
   "id": "bac03697-c38e-4e90-a21e-c38197b685e4",
   "metadata": {},
   "outputs": [],
   "source": [
    "with open('../data/clinvar/sample_splits.p', 'wb') as f:\n",
    "    pickle.dump({\n",
    "        'train': train_ids,\n",
    "        'val': val_ids,\n",
    "        'test': test_ids\n",
    "    })"
   ]
  }
 ],
 "metadata": {
  "kernelspec": {
   "display_name": "hyena",
   "language": "python",
   "name": "hyena"
  },
  "language_info": {
   "codemirror_mode": {
    "name": "ipython",
    "version": 3
   },
   "file_extension": ".py",
   "mimetype": "text/x-python",
   "name": "python",
   "nbconvert_exporter": "python",
   "pygments_lexer": "ipython3",
   "version": "3.10.11"
  }
 },
 "nbformat": 4,
 "nbformat_minor": 5
}
